{
 "cells": [
  {
   "cell_type": "code",
   "execution_count": 8,
   "id": "9523233c",
   "metadata": {},
   "outputs": [
    {
     "data": {
      "text/plain": [
       "Index(['Unnamed: 0', 'Genere', 'Title', 'ISBN', 'Username', 'Rating', 'Date',\n",
       "       'N_Likes', 'Review_Content'],\n",
       "      dtype='object')"
      ]
     },
     "execution_count": 8,
     "metadata": {},
     "output_type": "execute_result"
    }
   ],
   "source": [
    "#anobii it shared\n",
    "import pandas as pd\n",
    "sh_ano_IT=pd.read_csv(\"C:\\\\Users\\\\Fossati\\\\Desktop\\\\Tesi\\\\Dati\\\\Dati_SharedBooks\\\\Italiano\\\\Anobii_shared_reviews.csv\")\n",
    "sh_ano_IT.columns"
   ]
  },
  {
   "cell_type": "code",
   "execution_count": 9,
   "id": "4f43fedb",
   "metadata": {},
   "outputs": [
    {
     "data": {
      "text/plain": [
       "Index(['Unnamed: 0', 'Genere', 'Title', 'ISBN', 'Username', 'Stars_AZ',\n",
       "       'Rev_Date_AZ', 'Rev_Place_AZ', 'N_Likes_AZ', 'Rev_Content_AZ'],\n",
       "      dtype='object')"
      ]
     },
     "execution_count": 9,
     "metadata": {},
     "output_type": "execute_result"
    }
   ],
   "source": [
    "#anobii it shared\n",
    "\n",
    "sh_ama_IT=pd.read_csv(\"C:\\\\Users\\\\Fossati\\\\Desktop\\\\Tesi\\\\Dati\\\\Dati_SharedBooks\\\\Italiano\\\\AmazonIT_shared_reviews.csv\")\n",
    "sh_ama_IT.columns"
   ]
  },
  {
   "cell_type": "code",
   "execution_count": 10,
   "id": "5af9dd25",
   "metadata": {},
   "outputs": [
    {
     "data": {
      "text/plain": [
       "Index(['Unnamed: 0', 'index', 'Unnamed: 0.1', 'Genere', 'Title', 'ISBN',\n",
       "       'Username', 'Rating', 'Date', 'N_Likes', 'Review_Content',\n",
       "       'Language_AN'],\n",
       "      dtype='object')"
      ]
     },
     "execution_count": 10,
     "metadata": {},
     "output_type": "execute_result"
    }
   ],
   "source": [
    "# anobii IT\n",
    "\n",
    "ano_IT=pd.read_csv(\"C:\\\\Users\\\\Fossati\\\\Desktop\\\\Tesi\\\\Dati\\\\Dati_Italia\\\\anobii_rev_ita.csv\")\n",
    "ano_IT.columns"
   ]
  },
  {
   "cell_type": "code",
   "execution_count": 11,
   "id": "6d3a9db1",
   "metadata": {},
   "outputs": [
    {
     "data": {
      "text/plain": [
       "Index(['Unnamed: 0', 'index', 'Unnamed: 0.1', 'Genere', 'ISBN', 'Language_AZ',\n",
       "       'N_Likes_AZ', 'Rev_Content_AZ', 'Rev_Date_AZ', 'Rev_Place_AZ',\n",
       "       'Stars_AZ', 'Title', 'Username'],\n",
       "      dtype='object')"
      ]
     },
     "execution_count": 11,
     "metadata": {},
     "output_type": "execute_result"
    }
   ],
   "source": [
    "# amazon IT\n",
    "\n",
    "\n",
    "ama_IT=pd.read_csv(\"C:\\\\Users\\\\Fossati\\\\Desktop\\\\Tesi\\\\Dati\\\\Dati_Italia\\\\amazon_rev_ita.csv\")\n",
    "ama_IT.columns"
   ]
  },
  {
   "cell_type": "code",
   "execution_count": null,
   "id": "74b60f14",
   "metadata": {},
   "outputs": [],
   "source": []
  },
  {
   "cell_type": "code",
   "execution_count": null,
   "id": "3da2d66d",
   "metadata": {},
   "outputs": [],
   "source": []
  },
  {
   "cell_type": "code",
   "execution_count": 12,
   "id": "3ba75d3a",
   "metadata": {},
   "outputs": [],
   "source": [
    "from transformers import DistilBertTokenizerFast, DistilBertForSequenceClassification\n",
    "from transformers import XLMRobertaForSequenceClassification, XLMRobertaTokenizerFast\n",
    "from transformers import Trainer, TrainingArguments\n",
    "# For data manipulation and analysis\n",
    "import pandas as pd\n",
    "import numpy as np\n",
    "\n",
    "from sklearn.metrics import accuracy_score, precision_recall_fscore_support, classification_report\n",
    "\n",
    "import torch"
   ]
  },
  {
   "cell_type": "code",
   "execution_count": 13,
   "id": "2603bc02",
   "metadata": {},
   "outputs": [],
   "source": [
    "def prediction_test_nolabels(dataset,colname):  #dataset fa riferimento al set di dati che vogliamo passare, modello dipende dal tipo di FT\n",
    "#poi ci sarà anche la funzione per predire senza labels\n",
    "  from IPython.utils import io\n",
    "  with io.capture_output() as captured: #non vogliamo i print che intasano la ram\n",
    "  \n",
    "  #print(\"This wont print\")\n",
    "    tok = XLMRobertaTokenizerFast.from_pretrained('xlm-roberta-base')\n",
    "    mod = XLMRobertaForSequenceClassification.from_pretrained('Polarity_fin_xlmr') #modello migliore ottenuto\n",
    "   \n",
    "    unique_labels={'Neutra', 'Positiva', 'Negativa'}\n",
    "    label2id={'Negativa': 2, 'Neutra': 0, 'Positiva': 1}\n",
    "    id2label={2:'Negativa', 0:'Neutra', 1:'Positiva'}\n",
    "    \n",
    "    training_args = TrainingArguments(\n",
    "    num_train_epochs=4,              # total number of training epochs\n",
    "    per_device_train_batch_size=16,  # batch size per device during training\n",
    "    per_device_eval_batch_size=16,   # batch size for evaluation\n",
    "    learning_rate=2e-5,              # initial learning rate for Adam optimizer\n",
    "    warmup_steps=100,                # number of warmup steps for learning rate scheduler (set lower because of small dataset size)\n",
    "    weight_decay=0.01,               # strength of weight decay\n",
    "    output_dir='./results',          # output directory\n",
    "    logging_dir='./logs',            # directory for storing logs\n",
    "    logging_steps=2000,               # number of steps to output logging (set lower because of small dataset size)\n",
    "    evaluation_strategy='steps',\n",
    "    save_strategy='no'# evaluate during fine-tuning so that we can see progress \n",
    "    )\n",
    "    \n",
    "    class MyDataset(torch.utils.data.Dataset):\n",
    "        def __init__(self, encodings, labels):\n",
    "            self.encodings = encodings\n",
    "            self.labels = labels\n",
    "\n",
    "        def __getitem__(self, idx):\n",
    "            item = {key: torch.tensor(val[idx]) for key, val in self.encodings.items()}\n",
    "            item['labels'] = torch.tensor(self.labels[idx])\n",
    "            return item\n",
    "\n",
    "        def __len__(self):\n",
    "            return len(self.labels) \n",
    "    \n",
    "    #test_texts=dataset[colname] #sentence\n",
    "    \n",
    "    #da qui parte il codice\n",
    "    frasi=dataset[colname].tolist()\n",
    "     \n",
    "    prediction=[]  #lista che sarà riempita con le predizioni\n",
    "    score=[]#lista che sarà riempita con gli punt\n",
    "    #entrambe saranno incollate ai dataset alla fine\n",
    "    to_drop=['',' ','.',',','!']\n",
    "    count=0\n",
    "    print_c=[15000, 50000, 100000, 150000, 200000, 250000]\n",
    "    frasi_pred=[]\n",
    "    for el in frasi:\n",
    "        count+=1\n",
    "        punt=0\n",
    "        spl=el.replace(\"!\",\"!.\").replace(\"?\",\"?.\").replace(\"|\",\".\").split(\".\")#e ottengo una lista di stringhe\n",
    "        \n",
    "        test_texts=[] #lista frasi pulite\n",
    "        for stringa in spl:\n",
    "            if stringa not in to_drop:\n",
    "                test_texts.append(stringa)\n",
    "            \n",
    "        test_labels=['Neutra'] * len(test_texts)  #lista casuale con labels, per non cambiare la struttura del codice al fine di poterlo usare anche senza labels per fare testing\n",
    "\n",
    "        test_encodings  = tok(test_texts, truncation=True, padding=True, max_length=128) #, return_tensors='pt'\n",
    "        test_labels_encoded  = [label2id[y] for y in test_labels]\n",
    "\n",
    "        test_dataset = MyDataset(test_encodings, test_labels_encoded)\n",
    "        \n",
    "\n",
    "        trainer = Trainer(model=mod, args=training_args)  #basta avere il modello come parametro\n",
    "\n",
    "        predicted_results=trainer.predict(test_dataset)\n",
    "    \n",
    "        predicted_labels = predicted_results.predictions.argmax(-1) # Get the highest probability prediction\n",
    "        predicted_labels = predicted_labels.flatten().tolist()      # Flatten the predictions into a 1D list\n",
    "        predicted_labels = [id2label[l] for l in predicted_labels]  # Convert from integers back to strings for readability\n",
    "        \n",
    "        for pred in predicted_labels: \n",
    "            frasi_pred.append(pred)\n",
    "            if pred == 'Neutra':\n",
    "                punt+=0\n",
    "            elif pred == 'Positiva':\n",
    "                punt+=2.5\n",
    "            elif pred == 'Negativa':\n",
    "                punt+=-2.5\n",
    "        \n",
    "        try:\n",
    "            punteggio=round(float(punt/len(predicted_labels)),2)\n",
    "            score.append(punteggio) #appendiamo risultato alla lista score\n",
    "        except:\n",
    "            score.append('error')\n",
    "            prediction.append('Neutra')\n",
    "        \n",
    "        if punteggio <= -1.5:\n",
    "            prediction.append('Fortemente_Negativa')\n",
    "        elif punteggio >= 1.5:\n",
    "            prediction.append('Fortemente_Positiva')\n",
    "        elif punteggio < 1.5 and punteggio > 0.5:\n",
    "            prediction.append('Positiva')\n",
    "        elif punteggio > -1.5 and punteggio < -0.5:\n",
    "            prediction.append('Negativa')\n",
    "        else:\n",
    "            prediction.append('Neutra')\n",
    "            \n",
    "        if count in print_c:\n",
    "            print(count)\n",
    "        \n",
    "\n",
    "\n",
    "    return prediction, score, frasi_pred"
   ]
  },
  {
   "cell_type": "code",
   "execution_count": null,
   "id": "9aae30f1",
   "metadata": {},
   "outputs": [],
   "source": []
  },
  {
   "cell_type": "code",
   "execution_count": null,
   "id": "18a16b96",
   "metadata": {},
   "outputs": [],
   "source": [
    "#prova con set ampio di recensioni"
   ]
  },
  {
   "cell_type": "code",
   "execution_count": null,
   "id": "b717fc4f",
   "metadata": {},
   "outputs": [],
   "source": []
  },
  {
   "cell_type": "code",
   "execution_count": null,
   "id": "c3886f37",
   "metadata": {},
   "outputs": [],
   "source": [
    "sh_an=prediction_test_nolabels(sh_ano_IT.sample(5000),'Review_Content')  #variabilizza o sei finito\n",
    "#sh_good_EN['Sentiment']=sh_gr"
   ]
  },
  {
   "cell_type": "code",
   "execution_count": null,
   "id": "9dd68a6a",
   "metadata": {},
   "outputs": [],
   "source": [
    "sh_am=prediction_test_nolabels(sh_ama_IT.sample(5000),'Rev_Content_AZ')  #variabilizza o sei finito\n",
    "#sh_good_EN['Sentiment']=sh_gr"
   ]
  },
  {
   "cell_type": "code",
   "execution_count": null,
   "id": "313c24f5",
   "metadata": {},
   "outputs": [],
   "source": []
  },
  {
   "cell_type": "code",
   "execution_count": 47,
   "id": "f4438b6e",
   "metadata": {},
   "outputs": [
    {
     "name": "stdout",
     "output_type": "stream",
     "text": [
      "0.6769413333333333\n",
      "0.62\n",
      "1.085912945202433\n"
     ]
    }
   ],
   "source": [
    "import numpy as np\n",
    "print(np.mean(sh_an[1]))\n",
    "print(np.median(sh_an[1]))\n",
    "print(np.std(sh_an[1]))"
   ]
  },
  {
   "cell_type": "code",
   "execution_count": null,
   "id": "4cf1726e",
   "metadata": {},
   "outputs": [],
   "source": []
  },
  {
   "cell_type": "code",
   "execution_count": 48,
   "id": "63383577",
   "metadata": {},
   "outputs": [
    {
     "name": "stdout",
     "output_type": "stream",
     "text": [
      "1.0977033333333333\n",
      "1.25\n",
      "1.20498062999185\n"
     ]
    }
   ],
   "source": [
    "import numpy as np\n",
    "print(np.mean(sh_am[1]))\n",
    "print(np.median(sh_am[1]))\n",
    "print(np.std(sh_am[1]))"
   ]
  },
  {
   "cell_type": "code",
   "execution_count": null,
   "id": "32450d47",
   "metadata": {},
   "outputs": [],
   "source": []
  },
  {
   "cell_type": "code",
   "execution_count": 49,
   "id": "f6347cd9",
   "metadata": {},
   "outputs": [
    {
     "data": {
      "image/png": "[encoded data removed]",
      "text/plain": [
       "<Figure size 432x288 with 1 Axes>"
      ]
     },
     "metadata": {
      "needs_background": "light"
     },
     "output_type": "display_data"
    }
   ],
   "source": [
    "#normalità della distribuzione?\n",
    "\n",
    "import matplotlib.pyplot as plt\n",
    "\n",
    "bins=np.arange(-2.51,2.51,1) \n",
    "#min = 3.45\n",
    "#max= 4.9\n",
    "\n",
    "        \n",
    "plt.hist(sh_an[1]+sh_am[1], bins, color='green')\n",
    "plt.ylabel('frequency')\n",
    "plt.xlabel('Polarity_Score')\n",
    "plt.ylim((0,6000))\n",
    "plt.title('frequency histogram of Polarity it shared')\n",
    "plt.show()\n",
    "\n",
    "# si puo' assumere normalita'\n",
    "    "
   ]
  },
  {
   "cell_type": "code",
   "execution_count": null,
   "id": "8e0f244e",
   "metadata": {},
   "outputs": [],
   "source": []
  },
  {
   "cell_type": "code",
   "execution_count": 50,
   "id": "e829c218",
   "metadata": {},
   "outputs": [
    {
     "data": {
      "image/png": "[encoded data removed]",
      "text/plain": [
       "<Figure size 432x288 with 1 Axes>"
      ]
     },
     "metadata": {
      "needs_background": "light"
     },
     "output_type": "display_data"
    }
   ],
   "source": [
    "#normalità della distribuzione?\n",
    "\n",
    "import matplotlib.pyplot as plt\n",
    "\n",
    "bins=np.arange(-2.51,2.51,1) \n",
    "#min = 3.45\n",
    "#max= 4.9\n",
    "\n",
    "        \n",
    "plt.hist(sh_an[1], bins, color='green')\n",
    "plt.ylabel('frequency')\n",
    "plt.xlabel('Polarity_Score')\n",
    "plt.ylim((0,6000))\n",
    "plt.title('frequency histogram of Polarity it shared Anobii')\n",
    "plt.show()\n",
    "\n",
    "# si puo' assumere normalita'\n",
    "    "
   ]
  },
  {
   "cell_type": "code",
   "execution_count": null,
   "id": "bb2efc75",
   "metadata": {},
   "outputs": [],
   "source": []
  },
  {
   "cell_type": "code",
   "execution_count": 53,
   "id": "d8d29206",
   "metadata": {},
   "outputs": [
    {
     "data": {
      "image/png": "[encoded data removed]",
      "text/plain": [
       "<Figure size 432x288 with 1 Axes>"
      ]
     },
     "metadata": {
      "needs_background": "light"
     },
     "output_type": "display_data"
    }
   ],
   "source": [
    "#normalità della distribuzione?\n",
    "\n",
    "import matplotlib.pyplot as plt\n",
    "\n",
    "bins=np.arange(-2.51,2.51,1) \n",
    "#min = 3.45\n",
    "#max= 4.9\n",
    "\n",
    "        \n",
    "plt.hist(sh_am[1], bins, color='green')\n",
    "plt.ylabel('frequency')\n",
    "plt.xlabel('Polarity_Score')\n",
    "plt.ylim((0,5000))\n",
    "plt.title('frequency histogram of Polarity it shared Amazon')\n",
    "plt.show()\n",
    "\n",
    "# si puo' assumere normalita'\n",
    "    "
   ]
  },
  {
   "cell_type": "code",
   "execution_count": null,
   "id": "3014386c",
   "metadata": {},
   "outputs": [],
   "source": []
  },
  {
   "cell_type": "code",
   "execution_count": null,
   "id": "e78e391b",
   "metadata": {},
   "outputs": [],
   "source": []
  },
  {
   "cell_type": "code",
   "execution_count": null,
   "id": "f3fa5e9a",
   "metadata": {},
   "outputs": [],
   "source": []
  },
  {
   "cell_type": "code",
   "execution_count": 52,
   "id": "0de8ba5a",
   "metadata": {},
   "outputs": [
    {
     "data": {
      "text/plain": [
       "0\n",
       "Fortemente_Negativa     813\n",
       "Fortemente_Positiva    9250\n",
       "Negativa               1756\n",
       "Neutra                 9437\n",
       "Positiva               8744\n",
       "dtype: int64"
      ]
     },
     "execution_count": 52,
     "metadata": {},
     "output_type": "execute_result"
    }
   ],
   "source": [
    "pd.DataFrame(sh_am[0]+sh_an[0]).groupby(0).size()"
   ]
  },
  {
   "cell_type": "code",
   "execution_count": null,
   "id": "eb0110bc",
   "metadata": {},
   "outputs": [],
   "source": []
  },
  {
   "cell_type": "code",
   "execution_count": null,
   "id": "9a476d7d",
   "metadata": {},
   "outputs": [],
   "source": [
    "#sbilanciamento a favore delle postive, d'altronde i rating medi sono alti, e comunque sono i bestellers"
   ]
  },
  {
   "cell_type": "code",
   "execution_count": null,
   "id": "e14b57a6",
   "metadata": {},
   "outputs": [],
   "source": []
  },
  {
   "cell_type": "code",
   "execution_count": null,
   "id": "69862992",
   "metadata": {},
   "outputs": [],
   "source": []
  },
  {
   "cell_type": "code",
   "execution_count": null,
   "id": "ea5d3105",
   "metadata": {},
   "outputs": [],
   "source": []
  },
  {
   "cell_type": "code",
   "execution_count": null,
   "id": "a2f174c1",
   "metadata": {},
   "outputs": [],
   "source": [
    "#prova per frasi"
   ]
  },
  {
   "cell_type": "code",
   "execution_count": 54,
   "id": "9783cb80",
   "metadata": {},
   "outputs": [
    {
     "data": {
      "text/plain": [
       "0\n",
       "Negativa    14826\n",
       "Neutra      78305\n",
       "Positiva    48599\n",
       "dtype: int64"
      ]
     },
     "execution_count": 54,
     "metadata": {},
     "output_type": "execute_result"
    }
   ],
   "source": [
    "pd.DataFrame(sh_am[2]+sh_an[2]).groupby(0).size()"
   ]
  },
  {
   "cell_type": "code",
   "execution_count": 55,
   "id": "c712fea3",
   "metadata": {},
   "outputs": [
    {
     "data": {
      "image/png": "[encoded data removed]",
      "text/plain": [
       "<Figure size 432x288 with 1 Axes>"
      ]
     },
     "metadata": {},
     "output_type": "display_data"
    }
   ],
   "source": [
    "import matplotlib.pyplot as plt\n",
    "import numpy as np\n",
    "def pie(lista):\n",
    "    y = np.array(lista)\n",
    "    mylabels = [\"pos\",\"neu\",\"neg\"]\n",
    "    plt.pie(y, shadow = True,autopct='%.2f%%')#labels= percent\n",
    "    plt.legend(mylabels,loc=\"upper right\")\n",
    "    return plt.show() \n",
    "pie([48599, 78305, 14826])"
   ]
  },
  {
   "cell_type": "code",
   "execution_count": null,
   "id": "b1357fca",
   "metadata": {},
   "outputs": [],
   "source": []
  },
  {
   "cell_type": "code",
   "execution_count": null,
   "id": "d546cb13",
   "metadata": {},
   "outputs": [],
   "source": []
  },
  {
   "cell_type": "code",
   "execution_count": null,
   "id": "ca6d8271",
   "metadata": {},
   "outputs": [],
   "source": []
  },
  {
   "cell_type": "code",
   "execution_count": null,
   "id": "386272d6",
   "metadata": {},
   "outputs": [],
   "source": []
  },
  {
   "cell_type": "code",
   "execution_count": null,
   "id": "00bc5e9a",
   "metadata": {},
   "outputs": [],
   "source": [
    "sh_an=prediction_test_nolabels(sh_ano_IT,'Review_Content')  \n",
    "print(len(sh_an[0]))\n",
    "print(len(sh_an[1]))"
   ]
  },
  {
   "cell_type": "code",
   "execution_count": 16,
   "id": "403f0bc4",
   "metadata": {},
   "outputs": [
    {
     "data": {
      "text/plain": [
       "0\n",
       "Fortemente_Negativa    1508\n",
       "Fortemente_Positiva    9508\n",
       "Negativa               2214\n",
       "Neutra                 8313\n",
       "Positiva               7565\n",
       "dtype: int64"
      ]
     },
     "execution_count": 16,
     "metadata": {},
     "output_type": "execute_result"
    }
   ],
   "source": [
    "pd.DataFrame(sh_an[0]).groupby(0).size()"
   ]
  },
  {
   "cell_type": "code",
   "execution_count": 19,
   "id": "41000145",
   "metadata": {},
   "outputs": [],
   "source": [
    "sh_ano_IT['Sentiment']=sh_an[0]\n",
    "sh_ano_IT['Sent_Score']=sh_an[1]\n",
    "sh_ano_IT.to_csv('Anobii_shared_reviews.csv')"
   ]
  },
  {
   "cell_type": "code",
   "execution_count": null,
   "id": "9e4839c8",
   "metadata": {},
   "outputs": [],
   "source": []
  },
  {
   "cell_type": "code",
   "execution_count": null,
   "id": "ffa3ef04",
   "metadata": {},
   "outputs": [],
   "source": []
  },
  {
   "cell_type": "code",
   "execution_count": null,
   "id": "5de62961",
   "metadata": {},
   "outputs": [],
   "source": []
  },
  {
   "cell_type": "code",
   "execution_count": null,
   "id": "ffe79269",
   "metadata": {},
   "outputs": [],
   "source": [
    "sh_am=prediction_test_nolabels(sh_ama_IT,'Rev_Content_AZ') \n",
    "print(len(sh_am[0]))\n",
    "print(len(sh_am[1]))"
   ]
  },
  {
   "cell_type": "code",
   "execution_count": 17,
   "id": "376a50f1",
   "metadata": {},
   "outputs": [
    {
     "data": {
      "text/plain": [
       "0\n",
       "Fortemente_Negativa     610\n",
       "Fortemente_Positiva    9366\n",
       "Negativa                667\n",
       "Neutra                 2064\n",
       "Positiva               2716\n",
       "dtype: int64"
      ]
     },
     "execution_count": 17,
     "metadata": {},
     "output_type": "execute_result"
    }
   ],
   "source": [
    "pd.DataFrame(sh_am[0]).groupby(0).size()"
   ]
  },
  {
   "cell_type": "code",
   "execution_count": 20,
   "id": "b1fb1fe0",
   "metadata": {},
   "outputs": [],
   "source": [
    "sh_ama_IT['Sentiment']=sh_am[0]\n",
    "sh_ama_IT['Sent_Score']=sh_am[1]\n",
    "sh_ama_IT.to_csv('AmazonIT_shared_reviews.csv')"
   ]
  },
  {
   "cell_type": "code",
   "execution_count": null,
   "id": "8a2c32a6",
   "metadata": {},
   "outputs": [],
   "source": []
  },
  {
   "cell_type": "code",
   "execution_count": null,
   "id": "8ef34a3e",
   "metadata": {},
   "outputs": [],
   "source": []
  },
  {
   "cell_type": "code",
   "execution_count": null,
   "id": "7b02fc4a",
   "metadata": {},
   "outputs": [],
   "source": []
  },
  {
   "cell_type": "code",
   "execution_count": null,
   "id": "7221e507",
   "metadata": {},
   "outputs": [],
   "source": []
  },
  {
   "cell_type": "code",
   "execution_count": null,
   "id": "a57cfd41",
   "metadata": {},
   "outputs": [],
   "source": []
  },
  {
   "cell_type": "code",
   "execution_count": null,
   "id": "66638eb1",
   "metadata": {},
   "outputs": [],
   "source": [
    "an=prediction_test_nolabels(ano_IT,'Review_Content')  \n",
    "print(len(an[0]))\n",
    "print(len(an[1]))"
   ]
  },
  {
   "cell_type": "code",
   "execution_count": 24,
   "id": "c10a1324",
   "metadata": {},
   "outputs": [
    {
     "data": {
      "text/plain": [
       "0\n",
       "Fortemente_Negativa     3134\n",
       "Fortemente_Positiva    21985\n",
       "Negativa                4739\n",
       "Neutra                 16984\n",
       "Positiva               16915\n",
       "dtype: int64"
      ]
     },
     "execution_count": 24,
     "metadata": {},
     "output_type": "execute_result"
    }
   ],
   "source": [
    "pd.DataFrame(an[0]).groupby(0).size()"
   ]
  },
  {
   "cell_type": "code",
   "execution_count": 25,
   "id": "f4687409",
   "metadata": {},
   "outputs": [],
   "source": [
    "ano_IT['Sentiment']=an[0]\n",
    "ano_IT['Sent_Score']=an[1]\n",
    "ano_IT.to_csv('anobii_rev_ita.csv')"
   ]
  },
  {
   "cell_type": "code",
   "execution_count": null,
   "id": "23e4be1f",
   "metadata": {},
   "outputs": [],
   "source": []
  },
  {
   "cell_type": "code",
   "execution_count": null,
   "id": "6d8bcf4e",
   "metadata": {},
   "outputs": [],
   "source": []
  },
  {
   "cell_type": "code",
   "execution_count": null,
   "id": "ff48dfb4",
   "metadata": {},
   "outputs": [],
   "source": []
  },
  {
   "cell_type": "code",
   "execution_count": null,
   "id": "22219b18",
   "metadata": {},
   "outputs": [],
   "source": []
  },
  {
   "cell_type": "code",
   "execution_count": null,
   "id": "1d0accb3",
   "metadata": {},
   "outputs": [],
   "source": []
  },
  {
   "cell_type": "code",
   "execution_count": null,
   "id": "0b29728c",
   "metadata": {},
   "outputs": [],
   "source": []
  },
  {
   "cell_type": "code",
   "execution_count": null,
   "id": "4c1acf10",
   "metadata": {},
   "outputs": [],
   "source": []
  },
  {
   "cell_type": "code",
   "execution_count": null,
   "id": "eef60cbf",
   "metadata": {},
   "outputs": [],
   "source": []
  },
  {
   "cell_type": "code",
   "execution_count": null,
   "id": "12c3fff1",
   "metadata": {},
   "outputs": [],
   "source": [
    "am=prediction_test_nolabels(ama_IT,'Rev_Content_AZ') \n",
    "print(len(am[0]))\n",
    "print(len(am[1]))"
   ]
  },
  {
   "cell_type": "code",
   "execution_count": 27,
   "id": "bf8a0147",
   "metadata": {},
   "outputs": [
    {
     "data": {
      "text/plain": [
       "0\n",
       "Fortemente_Negativa     3742\n",
       "Fortemente_Positiva    58377\n",
       "Negativa                3750\n",
       "Neutra                 11141\n",
       "Positiva               16201\n",
       "dtype: int64"
      ]
     },
     "execution_count": 27,
     "metadata": {},
     "output_type": "execute_result"
    }
   ],
   "source": [
    "pd.DataFrame(am[0]).groupby(0).size()"
   ]
  },
  {
   "cell_type": "code",
   "execution_count": 28,
   "id": "f28fbfcc",
   "metadata": {},
   "outputs": [],
   "source": [
    "ama_IT['Sentiment']=am[0]\n",
    "ama_IT['Sent_Score']=am[1]\n",
    "ama_IT.to_csv('amazon_rev_ita.csv')"
   ]
  },
  {
   "cell_type": "code",
   "execution_count": null,
   "id": "1fbaf0c7",
   "metadata": {},
   "outputs": [],
   "source": []
  },
  {
   "cell_type": "code",
   "execution_count": null,
   "id": "2998a04c",
   "metadata": {},
   "outputs": [],
   "source": []
  },
  {
   "cell_type": "code",
   "execution_count": null,
   "id": "5ed2f90f",
   "metadata": {},
   "outputs": [],
   "source": []
  },
  {
   "cell_type": "code",
   "execution_count": null,
   "id": "5e9bc02f",
   "metadata": {},
   "outputs": [],
   "source": []
  },
  {
   "cell_type": "code",
   "execution_count": null,
   "id": "eae37aa2",
   "metadata": {},
   "outputs": [],
   "source": []
  },
  {
   "cell_type": "code",
   "execution_count": null,
   "id": "70765ed7",
   "metadata": {},
   "outputs": [],
   "source": []
  },
  {
   "cell_type": "code",
   "execution_count": null,
   "id": "9a68378f",
   "metadata": {},
   "outputs": [],
   "source": []
  }
 ],
 "metadata": {
  "kernelspec": {
   "display_name": "Python 3",
   "language": "python",
   "name": "python3"
  },
  "language_info": {
   "codemirror_mode": {
    "name": "ipython",
    "version": 3
   },
   "file_extension": ".py",
   "mimetype": "text/x-python",
   "name": "python",
   "nbconvert_exporter": "python",
   "pygments_lexer": "ipython3",
   "version": "3.8.8"
  }
 },
 "nbformat": 4,
 "nbformat_minor": 5
}
