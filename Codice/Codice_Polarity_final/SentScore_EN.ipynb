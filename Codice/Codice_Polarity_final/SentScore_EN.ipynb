{
 "cells": [
  {
   "cell_type": "code",
   "execution_count": 10,
   "id": "1b5d8cf7",
   "metadata": {},
   "outputs": [],
   "source": [
    "import pandas as pd"
   ]
  },
  {
   "cell_type": "code",
   "execution_count": 11,
   "id": "1efaaab0",
   "metadata": {},
   "outputs": [
    {
     "data": {
      "text/plain": [
       "Index(['Unnamed: 0', 'Titolo', 'ISBN', 'Genere', 'Shelves', 'N_Likes_GR',\n",
       "       'Userlist_GR', 'Rating_GR', 'Rev_Date_GR', 'Rev_Content_GR'],\n",
       "      dtype='object')"
      ]
     },
     "execution_count": 11,
     "metadata": {},
     "output_type": "execute_result"
    }
   ],
   "source": [
    "#goodreads reviews shared\n",
    "\n",
    "sh_good_EN=pd.read_csv(\"C:\\\\Users\\\\Fossati\\\\Desktop\\\\Tesi\\\\Dati\\\\Dati_SharedBooks\\\\Inglese\\\\Goodreads_shared_reviews.csv\")\n",
    "sh_good_EN.columns"
   ]
  },
  {
   "cell_type": "code",
   "execution_count": 12,
   "id": "33d7d8a6",
   "metadata": {},
   "outputs": [
    {
     "data": {
      "text/plain": [
       "Index(['Unnamed: 0', 'Title', 'ISBN', 'Genere', 'Username', 'Stars', 'Date',\n",
       "       'ReviewCountry', 'N_Likes', 'Content'],\n",
       "      dtype='object')"
      ]
     },
     "execution_count": 12,
     "metadata": {},
     "output_type": "execute_result"
    }
   ],
   "source": [
    "#amazonEN reviews shared\n",
    "\n",
    "sh_ama_EN=pd.read_csv(\"C:\\\\Users\\\\Fossati\\\\Desktop\\\\Tesi\\\\Dati\\\\Dati_SharedBooks\\\\Inglese\\\\AmazonEN_shared_reviews.csv\")\n",
    "sh_ama_EN.columns"
   ]
  },
  {
   "cell_type": "code",
   "execution_count": 13,
   "id": "edb24cd4",
   "metadata": {},
   "outputs": [
    {
     "data": {
      "text/plain": [
       "Index(['Unnamed: 0', 'Title', 'ISBN', 'Genere', 'Username', 'Stars', 'Date',\n",
       "       'ReviewCountry', 'N_Likes', 'Content', 'Language_AZ'],\n",
       "      dtype='object')"
      ]
     },
     "execution_count": 13,
     "metadata": {},
     "output_type": "execute_result"
    }
   ],
   "source": [
    "#goodreads en\n",
    "\n",
    "ama_EN=pd.read_csv(\"C:\\\\Users\\\\Fossati\\\\Desktop\\\\Tesi\\\\Dati\\\\Dati_English\\\\Amazon_EN\\\\Amazon_Reviews_EN_to300.csv\")\n",
    "ama_EN.columns"
   ]
  },
  {
   "cell_type": "code",
   "execution_count": 14,
   "id": "06abd728",
   "metadata": {},
   "outputs": [
    {
     "data": {
      "text/plain": [
       "Index(['Unnamed: 0', 'Genere', 'Titolo', 'ISBN', 'Rev_Date_GR', 'Rating_GR',\n",
       "       'Userlist_GR', 'N_Likes_GR', 'Shelves', 'Rev_Content_GR',\n",
       "       'Language_GR'],\n",
       "      dtype='object')"
      ]
     },
     "execution_count": 14,
     "metadata": {},
     "output_type": "execute_result"
    }
   ],
   "source": [
    "gr_EN=pd.read_csv(\"C:\\\\Users\\\\Fossati\\\\Desktop\\\\Tesi\\\\Dati\\\\Dati_English\\\\Goodreads_EN\\\\Goodreads_Reviews_EN.csv\")\n",
    "gr_EN.columns"
   ]
  },
  {
   "cell_type": "code",
   "execution_count": null,
   "id": "a45f6bbf",
   "metadata": {},
   "outputs": [],
   "source": []
  },
  {
   "cell_type": "code",
   "execution_count": 58,
   "id": "225c0b2a",
   "metadata": {},
   "outputs": [],
   "source": [
    "#in questo foglio effettuiamo prove per capire come sfruttare la funzione predict al fine di passare grande mole di dati al BERT"
   ]
  },
  {
   "cell_type": "code",
   "execution_count": 59,
   "id": "031f63c0",
   "metadata": {},
   "outputs": [],
   "source": [
    "#inoltre creiamo funzioni e facciamo prime prove di testing del modello annotato inglese"
   ]
  },
  {
   "cell_type": "code",
   "execution_count": null,
   "id": "5e92bca6",
   "metadata": {},
   "outputs": [],
   "source": []
  },
  {
   "cell_type": "code",
   "execution_count": 16,
   "id": "3e9de7bc",
   "metadata": {},
   "outputs": [],
   "source": [
    "from transformers import DistilBertTokenizerFast, DistilBertForSequenceClassification\n",
    "from transformers import XLMRobertaForSequenceClassification, XLMRobertaTokenizerFast\n",
    "from transformers import Trainer, TrainingArguments\n",
    "# For data manipulation and analysis\n",
    "import pandas as pd\n",
    "import numpy as np\n",
    "\n",
    "from sklearn.metrics import accuracy_score, precision_recall_fscore_support, classification_report\n",
    "\n",
    "import torch\n"
   ]
  },
  {
   "cell_type": "code",
   "execution_count": 37,
   "id": "2603bc02",
   "metadata": {},
   "outputs": [],
   "source": [
    "def prediction_test_nolabels(dataset,colname):  #dataset fa riferimento al set di dati che vogliamo passare, modello dipende dal tipo di FT\n",
    "#poi ci sarà anche la funzione per predire senza labels\n",
    "  from IPython.utils import io\n",
    "  with io.capture_output() as captured: #non vogliamo i print che intasano la ram\n",
    "  \n",
    "  #print(\"This wont print\")\n",
    "    tok = XLMRobertaTokenizerFast.from_pretrained('xlm-roberta-base')\n",
    "    mod = XLMRobertaForSequenceClassification.from_pretrained('Polarity_fin_xlmr') #modello migliore ottenuto\n",
    "   \n",
    "    unique_labels={'Neutra', 'Positiva', 'Negativa'}\n",
    "    label2id={'Negativa': 2, 'Neutra': 0, 'Positiva': 1}\n",
    "    id2label={2:'Negativa', 0:'Neutra', 1:'Positiva'}\n",
    "    \n",
    "    training_args = TrainingArguments(\n",
    "    num_train_epochs=4,              # total number of training epochs\n",
    "    per_device_train_batch_size=16,  # batch size per device during training\n",
    "    per_device_eval_batch_size=16,   # batch size for evaluation\n",
    "    learning_rate=2e-5,              # initial learning rate for Adam optimizer\n",
    "    warmup_steps=100,                # number of warmup steps for learning rate scheduler (set lower because of small dataset size)\n",
    "    weight_decay=0.01,               # strength of weight decay\n",
    "    output_dir='./results',          # output directory\n",
    "    logging_dir='./logs',            # directory for storing logs\n",
    "    logging_steps=2000,               # number of steps to output logging (set lower because of small dataset size)\n",
    "    evaluation_strategy='steps',\n",
    "    save_strategy='no'# evaluate during fine-tuning so that we can see progress \n",
    "    )\n",
    "    \n",
    "    class MyDataset(torch.utils.data.Dataset):\n",
    "        def __init__(self, encodings, labels):\n",
    "            self.encodings = encodings\n",
    "            self.labels = labels\n",
    "\n",
    "        def __getitem__(self, idx):\n",
    "            item = {key: torch.tensor(val[idx]) for key, val in self.encodings.items()}\n",
    "            item['labels'] = torch.tensor(self.labels[idx])\n",
    "            return item\n",
    "\n",
    "        def __len__(self):\n",
    "            return len(self.labels) \n",
    "    \n",
    "    #test_texts=dataset[colname] #sentence\n",
    "    \n",
    "    #da qui parte il codice\n",
    "    frasi=dataset[colname].tolist()\n",
    "     \n",
    "    prediction=[]  #lista che sarà riempita con le predizioni\n",
    "    score=[]#lista che sarà riempita con gli punt\n",
    "    #entrambe saranno incollate ai dataset alla fine\n",
    "    to_drop=['',' ','.',',','!']\n",
    "    count=0\n",
    "    print_c=[15000, 50000, 100000, 150000, 200000, 250000]\n",
    "    frasi_pred=[]\n",
    "    for el in frasi:\n",
    "        count+=1\n",
    "        punt=0\n",
    "        spl=el.replace(\"!\",\"!.\").replace(\"?\",\"?.\").replace(\"|\",\".\").split(\".\")#e ottengo una lista di stringhe\n",
    "        \n",
    "        test_texts=[] #lista frasi pulite\n",
    "        for stringa in spl:\n",
    "            if stringa not in to_drop:\n",
    "                test_texts.append(stringa)\n",
    "            \n",
    "        test_labels=['Neutra'] * len(test_texts)  #lista casuale con labels, per non cambiare la struttura del codice al fine di poterlo usare anche senza labels per fare testing\n",
    "\n",
    "        test_encodings  = tok(test_texts, truncation=True, padding=True, max_length=128) #, return_tensors='pt'\n",
    "        test_labels_encoded  = [label2id[y] for y in test_labels]\n",
    "\n",
    "        test_dataset = MyDataset(test_encodings, test_labels_encoded)\n",
    "        \n",
    "\n",
    "        trainer = Trainer(model=mod, args=training_args)  #basta avere il modello come parametro\n",
    "\n",
    "        predicted_results=trainer.predict(test_dataset)\n",
    "    \n",
    "        predicted_labels = predicted_results.predictions.argmax(-1) # Get the highest probability prediction\n",
    "        predicted_labels = predicted_labels.flatten().tolist()      # Flatten the predictions into a 1D list\n",
    "        predicted_labels = [id2label[l] for l in predicted_labels]  # Convert from integers back to strings for readability\n",
    "        \n",
    "        for pred in predicted_labels: \n",
    "            frasi_pred.append(pred)\n",
    "            if pred == 'Neutra':\n",
    "                punt+=0\n",
    "            elif pred == 'Positiva':\n",
    "                punt+=2.5\n",
    "            elif pred == 'Negativa':\n",
    "                punt+=-2.5\n",
    "        \n",
    "        try:\n",
    "            punteggio=round(float(punt/len(predicted_labels)),2)\n",
    "            score.append(punteggio) #appendiamo risultato alla lista score\n",
    "        except:\n",
    "            score.append('error')\n",
    "            prediction.append('Neutra')\n",
    "        \n",
    "        if punteggio <= -1.5:\n",
    "            prediction.append('Fortemente_Negativa')\n",
    "        elif punteggio >= 1.5:\n",
    "            prediction.append('Fortemente_Positiva')\n",
    "        elif punteggio < 1.5 and punteggio > 0.5:\n",
    "            prediction.append('Positiva')\n",
    "        elif punteggio > -1.5 and punteggio < -0.5:\n",
    "            prediction.append('Negativa')\n",
    "        else:\n",
    "            prediction.append('Neutra')\n",
    "            \n",
    "        if count in print_c:\n",
    "            print(count)\n",
    "        \n",
    "\n",
    "\n",
    "    return prediction, score, frasi_pred"
   ]
  },
  {
   "cell_type": "code",
   "execution_count": null,
   "id": "9aae30f1",
   "metadata": {},
   "outputs": [],
   "source": []
  },
  {
   "cell_type": "code",
   "execution_count": null,
   "id": "18a16b96",
   "metadata": {},
   "outputs": [],
   "source": [
    "#prova con set ampio di recensioni"
   ]
  },
  {
   "cell_type": "code",
   "execution_count": null,
   "id": "f33449bc",
   "metadata": {},
   "outputs": [],
   "source": [
    "#prova finalizzata a capure un po' come funziona il modello, se ha senso e se bisogna ca,biare le soglie"
   ]
  },
  {
   "cell_type": "code",
   "execution_count": null,
   "id": "4c2886d8",
   "metadata": {},
   "outputs": [],
   "source": []
  },
  {
   "cell_type": "code",
   "execution_count": null,
   "id": "8bfda2fd",
   "metadata": {},
   "outputs": [],
   "source": [
    "sh_gr=prediction_test_nolabels(sh_good_EN.sample(5000),'Rev_Content_GR')  #variabilizza o sei finito\n",
    "#sh_good_EN['Sentiment']=sh_gr"
   ]
  },
  {
   "cell_type": "code",
   "execution_count": null,
   "id": "be680c0b",
   "metadata": {},
   "outputs": [],
   "source": [
    "sh_am=prediction_test_nolabels(sh_ama_EN.sample(5000),'Content')  #variabilizza o sei finito\n",
    "#sh_good_EN['Sentiment']=sh_gr"
   ]
  },
  {
   "cell_type": "code",
   "execution_count": null,
   "id": "692f2dd5",
   "metadata": {},
   "outputs": [],
   "source": []
  },
  {
   "cell_type": "code",
   "execution_count": 69,
   "id": "52a5e110",
   "metadata": {},
   "outputs": [
    {
     "name": "stdout",
     "output_type": "stream",
     "text": [
      "1.268836\n",
      "1.25\n",
      "1.2308682430588038\n"
     ]
    }
   ],
   "source": [
    "import numpy as np\n",
    "print(np.mean(sh_gr[1]))\n",
    "print(np.median(sh_gr[1]))\n",
    "print(np.std(sh_gr[1]))"
   ]
  },
  {
   "cell_type": "code",
   "execution_count": null,
   "id": "45e4e7bd",
   "metadata": {},
   "outputs": [],
   "source": [
    "#media abbastanza vicina a mediana, popolazione approssimabile a normale\n",
    "#media estremamente positiva, dato riscontrato anche dal rating statistiche"
   ]
  },
  {
   "cell_type": "code",
   "execution_count": 70,
   "id": "386a4e14",
   "metadata": {},
   "outputs": [
    {
     "name": "stdout",
     "output_type": "stream",
     "text": [
      "1.4405873333333332\n",
      "1.67\n",
      "1.222496143841044\n"
     ]
    }
   ],
   "source": [
    "import numpy as np\n",
    "print(np.mean(sh_am[1]))\n",
    "print(np.median(sh_am[1]))\n",
    "print(np.std(sh_am[1]))"
   ]
  },
  {
   "cell_type": "code",
   "execution_count": null,
   "id": "478f399d",
   "metadata": {},
   "outputs": [],
   "source": []
  },
  {
   "cell_type": "code",
   "execution_count": 75,
   "id": "2117c9fc",
   "metadata": {},
   "outputs": [
    {
     "data": {
      "image/png": "[encoded data removed]",
      "text/plain": [
       "<Figure size 432x288 with 1 Axes>"
      ]
     },
     "metadata": {
      "needs_background": "light"
     },
     "output_type": "display_data"
    }
   ],
   "source": [
    "#normalità della distribuzione?\n",
    "\n",
    "import matplotlib.pyplot as plt\n",
    "\n",
    "bins=np.arange(-2.51,2.51, 1) \n",
    "#min = 3.45\n",
    "#max= 4.9\n",
    "\n",
    "        \n",
    "plt.hist(sh_am[1]+sh_gr[1], bins, color='green')\n",
    "plt.ylabel('frequency')\n",
    "plt.xlabel('Poalrity_score')\n",
    "plt.ylim((0,8500))\n",
    "plt.title('frequency histogram of polarity-score en shared')\n",
    "plt.show()\n",
    "\n",
    "# si puo' assumere normalita'\n",
    "    "
   ]
  },
  {
   "cell_type": "code",
   "execution_count": null,
   "id": "14843269",
   "metadata": {},
   "outputs": [],
   "source": []
  },
  {
   "cell_type": "code",
   "execution_count": 80,
   "id": "057db95e",
   "metadata": {},
   "outputs": [
    {
     "data": {
      "image/png": "[encoded data removed]",
      "text/plain": [
       "<Figure size 432x288 with 1 Axes>"
      ]
     },
     "metadata": {
      "needs_background": "light"
     },
     "output_type": "display_data"
    }
   ],
   "source": [
    "#normalità della distribuzione?\n",
    "\n",
    "import matplotlib.pyplot as plt\n",
    "\n",
    "bins=np.arange(-2.51,2.51, 1) \n",
    "#min = 3.45\n",
    "#max= 4.9\n",
    "\n",
    "        \n",
    "plt.hist(sh_gr[1], bins, color='green')\n",
    "plt.ylabel('frequency')\n",
    "plt.xlabel('Poalrity_score')\n",
    "plt.ylim((0,4500))\n",
    "plt.title('frequency histogram of polarity-score en shared Goodreads')\n",
    "plt.show()\n",
    "\n",
    "# si puo' assumere normalita'\n",
    "    "
   ]
  },
  {
   "cell_type": "code",
   "execution_count": null,
   "id": "2c7f53c5",
   "metadata": {},
   "outputs": [],
   "source": []
  },
  {
   "cell_type": "code",
   "execution_count": 79,
   "id": "6f36ecc2",
   "metadata": {},
   "outputs": [
    {
     "data": {
      "image/png": "[encoded data removed]",
      "text/plain": [
       "<Figure size 432x288 with 1 Axes>"
      ]
     },
     "metadata": {
      "needs_background": "light"
     },
     "output_type": "display_data"
    }
   ],
   "source": [
    "#normalità della distribuzione?\n",
    "\n",
    "import matplotlib.pyplot as plt\n",
    "\n",
    "bins=np.arange(-2.51,2.51, 1) \n",
    "#min = 3.45\n",
    "#max= 4.9\n",
    "\n",
    "        \n",
    "plt.hist(sh_am[1], bins, color='green')\n",
    "plt.ylabel('frequency')\n",
    "plt.xlabel('Poalrity_score')\n",
    "plt.ylim((0,4000))\n",
    "plt.title('frequency histogram of polarity-score en shared Amazon')\n",
    "plt.show()\n",
    "\n",
    "# si puo' assumere normalita'\n",
    "    "
   ]
  },
  {
   "cell_type": "code",
   "execution_count": null,
   "id": "105b2d64",
   "metadata": {},
   "outputs": [],
   "source": []
  },
  {
   "cell_type": "code",
   "execution_count": null,
   "id": "e748732a",
   "metadata": {},
   "outputs": [],
   "source": []
  },
  {
   "cell_type": "code",
   "execution_count": 81,
   "id": "e0878e4a",
   "metadata": {},
   "outputs": [
    {
     "name": "stdout",
     "output_type": "stream",
     "text": [
      "5358\n",
      "7128\n",
      "17514\n"
     ]
    }
   ],
   "source": [
    "neg=0\n",
    "neu=0\n",
    "pos=0\n",
    "for pred in sh_am[0]+sh_gr[0]:\n",
    "    if pred=='Neutra':\n",
    "        neu+=1\n",
    "    elif pred=='Positiva':\n",
    "        pos+=1\n",
    "    else:\n",
    "        neg+=1\n",
    "print(neu)\n",
    "print(pos)\n",
    "print(neg)"
   ]
  },
  {
   "cell_type": "code",
   "execution_count": null,
   "id": "13356339",
   "metadata": {},
   "outputs": [],
   "source": []
  },
  {
   "cell_type": "code",
   "execution_count": 82,
   "id": "f82ae95d",
   "metadata": {},
   "outputs": [
    {
     "data": {
      "text/plain": [
       "0\n",
       "Fortemente_Negativa      935\n",
       "Fortemente_Positiva    15598\n",
       "Negativa                 981\n",
       "Neutra                  5358\n",
       "Positiva                7128\n",
       "dtype: int64"
      ]
     },
     "execution_count": 82,
     "metadata": {},
     "output_type": "execute_result"
    }
   ],
   "source": [
    "pd.DataFrame(sh_am[0]+sh_gr[0]).groupby(0).size()"
   ]
  },
  {
   "cell_type": "code",
   "execution_count": null,
   "id": "79078702",
   "metadata": {},
   "outputs": [],
   "source": []
  },
  {
   "cell_type": "code",
   "execution_count": null,
   "id": "5f0507e0",
   "metadata": {},
   "outputs": [],
   "source": []
  },
  {
   "cell_type": "code",
   "execution_count": null,
   "id": "70fab018",
   "metadata": {},
   "outputs": [],
   "source": []
  },
  {
   "cell_type": "code",
   "execution_count": null,
   "id": "7f2b6b6e",
   "metadata": {},
   "outputs": [],
   "source": []
  },
  {
   "cell_type": "code",
   "execution_count": null,
   "id": "4e29f611",
   "metadata": {},
   "outputs": [],
   "source": []
  },
  {
   "cell_type": "code",
   "execution_count": null,
   "id": "5f33f2d3",
   "metadata": {},
   "outputs": [],
   "source": [
    "#sbilanciamento netto a favore delle recensioni positive, e stando ai rating ha senso la cosa"
   ]
  },
  {
   "cell_type": "code",
   "execution_count": null,
   "id": "7c79e321",
   "metadata": {},
   "outputs": [],
   "source": []
  },
  {
   "cell_type": "code",
   "execution_count": null,
   "id": "c3a73c2a",
   "metadata": {},
   "outputs": [],
   "source": [
    "#prova per frasi singole"
   ]
  },
  {
   "cell_type": "code",
   "execution_count": 83,
   "id": "483a1a61",
   "metadata": {},
   "outputs": [
    {
     "data": {
      "text/plain": [
       "0\n",
       "Negativa    22589\n",
       "Neutra      40254\n",
       "Positiva    80059\n",
       "dtype: int64"
      ]
     },
     "execution_count": 83,
     "metadata": {},
     "output_type": "execute_result"
    }
   ],
   "source": [
    "pd.DataFrame(sh_am[2]+sh_gr[2]).groupby(0).size()"
   ]
  },
  {
   "cell_type": "code",
   "execution_count": 84,
   "id": "865a9e5c",
   "metadata": {},
   "outputs": [
    {
     "data": {
      "image/png": "[encoded data removed]",
      "text/plain": [
       "<Figure size 432x288 with 1 Axes>"
      ]
     },
     "metadata": {},
     "output_type": "display_data"
    }
   ],
   "source": [
    "import matplotlib.pyplot as plt\n",
    "import numpy as np\n",
    "def pie(lista):\n",
    "    y = np.array(lista)\n",
    "    mylabels = [\"pos\",\"neu\",\"neg\"]\n",
    "    plt.pie(y, shadow = True,autopct='%.2f%%')#labels= percent\n",
    "    plt.legend(mylabels,loc=\"upper right\")\n",
    "    return plt.show() \n",
    "pie([80059, 40254, 22589])"
   ]
  },
  {
   "cell_type": "code",
   "execution_count": null,
   "id": "a14a1ecb",
   "metadata": {},
   "outputs": [],
   "source": []
  },
  {
   "cell_type": "code",
   "execution_count": null,
   "id": "f3041b0c",
   "metadata": {},
   "outputs": [],
   "source": [
    "#adesso si fa sul serio"
   ]
  },
  {
   "cell_type": "code",
   "execution_count": null,
   "id": "1d7dc2d5",
   "metadata": {},
   "outputs": [],
   "source": [
    "sh_gr=prediction_test_nolabels(sh_good_EN,'Rev_Content_GR')  \n",
    "print(len(sh_gr[0]))\n",
    "print(len(sh_gr[1]))"
   ]
  },
  {
   "cell_type": "code",
   "execution_count": 47,
   "id": "2b225d38",
   "metadata": {},
   "outputs": [],
   "source": [
    "sh_good_EN['Sentiment']=sh_gr[0]\n",
    "sh_good_EN['Sent_Score']=sh_gr[1]\n",
    "sh_ama_EN.to_csv('Goodreads_shared_reviews.csv')"
   ]
  },
  {
   "cell_type": "code",
   "execution_count": 45,
   "id": "5a886f5b",
   "metadata": {},
   "outputs": [
    {
     "data": {
      "text/plain": [
       "0\n",
       "Fortemente_Negativa    1210\n",
       "Fortemente_Positiva    9495\n",
       "Negativa               1166\n",
       "Neutra                 4402\n",
       "Positiva               4744\n",
       "dtype: int64"
      ]
     },
     "execution_count": 45,
     "metadata": {},
     "output_type": "execute_result"
    }
   ],
   "source": [
    "pd.DataFrame(sh_gr[0]).groupby(0).size()"
   ]
  },
  {
   "cell_type": "code",
   "execution_count": null,
   "id": "9b14ba82",
   "metadata": {},
   "outputs": [],
   "source": [
    "#ok"
   ]
  },
  {
   "cell_type": "code",
   "execution_count": null,
   "id": "95998784",
   "metadata": {},
   "outputs": [],
   "source": []
  },
  {
   "cell_type": "code",
   "execution_count": null,
   "id": "cb5f04d3",
   "metadata": {},
   "outputs": [],
   "source": []
  },
  {
   "cell_type": "code",
   "execution_count": null,
   "id": "7296e457",
   "metadata": {},
   "outputs": [],
   "source": []
  },
  {
   "cell_type": "code",
   "execution_count": null,
   "id": "1f025796",
   "metadata": {},
   "outputs": [],
   "source": []
  },
  {
   "cell_type": "code",
   "execution_count": null,
   "id": "ca4a1d8f",
   "metadata": {},
   "outputs": [],
   "source": []
  },
  {
   "cell_type": "code",
   "execution_count": null,
   "id": "bed82c19",
   "metadata": {},
   "outputs": [],
   "source": [
    "sh_am=prediction_test_nolabels(sh_ama_EN,'Content')  \n"
   ]
  },
  {
   "cell_type": "code",
   "execution_count": 46,
   "id": "4d491d01",
   "metadata": {},
   "outputs": [
    {
     "name": "stdout",
     "output_type": "stream",
     "text": [
      "47337\n",
      "47337\n"
     ]
    },
    {
     "data": {
      "text/plain": [
       "0\n",
       "Fortemente_Negativa     2107\n",
       "Fortemente_Positiva    27964\n",
       "Negativa                2073\n",
       "Neutra                  6749\n",
       "Positiva                8444\n",
       "dtype: int64"
      ]
     },
     "execution_count": 46,
     "metadata": {},
     "output_type": "execute_result"
    }
   ],
   "source": [
    "print(len(sh_am[0]))\n",
    "print(len(sh_am[1]))\n",
    "pd.DataFrame(sh_am[0]).groupby(0).size()"
   ]
  },
  {
   "cell_type": "code",
   "execution_count": 48,
   "id": "7808b347",
   "metadata": {},
   "outputs": [],
   "source": [
    "sh_ama_EN['Sentiment']=sh_am[0]\n",
    "sh_ama_EN['Sent_Score']=sh_am[1]\n",
    "sh_ama_EN.to_csv('AmazonEN_shared_reviews.csv')"
   ]
  },
  {
   "cell_type": "code",
   "execution_count": null,
   "id": "8a2c32a6",
   "metadata": {},
   "outputs": [],
   "source": []
  },
  {
   "cell_type": "code",
   "execution_count": null,
   "id": "1cb6b060",
   "metadata": {},
   "outputs": [],
   "source": []
  },
  {
   "cell_type": "code",
   "execution_count": null,
   "id": "40a72e7a",
   "metadata": {},
   "outputs": [],
   "source": []
  },
  {
   "cell_type": "code",
   "execution_count": null,
   "id": "d0090e3d",
   "metadata": {},
   "outputs": [],
   "source": []
  },
  {
   "cell_type": "code",
   "execution_count": null,
   "id": "10cad20b",
   "metadata": {},
   "outputs": [],
   "source": []
  },
  {
   "cell_type": "code",
   "execution_count": null,
   "id": "d85bb20c",
   "metadata": {},
   "outputs": [],
   "source": []
  },
  {
   "cell_type": "code",
   "execution_count": null,
   "id": "521d45c9",
   "metadata": {},
   "outputs": [],
   "source": [
    "gr=prediction_test_nolabels(gr_EN,'Rev_Content_GR')  \n",
    "print(len(gr[0]))\n",
    "print(len(gr[1]))\n"
   ]
  },
  {
   "cell_type": "code",
   "execution_count": 51,
   "id": "4172af9a",
   "metadata": {},
   "outputs": [
    {
     "data": {
      "text/plain": [
       "0\n",
       "Fortemente_Negativa     13409\n",
       "Fortemente_Positiva    109244\n",
       "Negativa                14921\n",
       "Neutra                  52262\n",
       "Positiva                57628\n",
       "dtype: int64"
      ]
     },
     "execution_count": 51,
     "metadata": {},
     "output_type": "execute_result"
    }
   ],
   "source": [
    "pd.DataFrame(gr[0]).groupby(0).size()"
   ]
  },
  {
   "cell_type": "code",
   "execution_count": 52,
   "id": "23e4be1f",
   "metadata": {},
   "outputs": [],
   "source": [
    "gr_EN['Sentiment']=gr[0]\n",
    "gr_EN['Sent_Score']=gr[1]\n",
    "gr_EN.to_csv('Goodreads_Reviews_EN.csv')"
   ]
  },
  {
   "cell_type": "code",
   "execution_count": null,
   "id": "54124f59",
   "metadata": {},
   "outputs": [],
   "source": []
  },
  {
   "cell_type": "code",
   "execution_count": null,
   "id": "fdd30830",
   "metadata": {},
   "outputs": [],
   "source": []
  },
  {
   "cell_type": "code",
   "execution_count": null,
   "id": "08081639",
   "metadata": {},
   "outputs": [],
   "source": []
  },
  {
   "cell_type": "code",
   "execution_count": null,
   "id": "3d207912",
   "metadata": {},
   "outputs": [],
   "source": []
  },
  {
   "cell_type": "code",
   "execution_count": null,
   "id": "eef60cbf",
   "metadata": {},
   "outputs": [],
   "source": []
  },
  {
   "cell_type": "code",
   "execution_count": null,
   "id": "51ebea21",
   "metadata": {},
   "outputs": [],
   "source": []
  },
  {
   "cell_type": "code",
   "execution_count": null,
   "id": "ecd3473f",
   "metadata": {},
   "outputs": [],
   "source": []
  },
  {
   "cell_type": "code",
   "execution_count": null,
   "id": "72b4b8ad",
   "metadata": {},
   "outputs": [],
   "source": []
  },
  {
   "cell_type": "code",
   "execution_count": null,
   "id": "12c3fff1",
   "metadata": {},
   "outputs": [],
   "source": [
    "ama=prediction_test_nolabels(ama_EN,'Content')  \n",
    "print(len(ama[0]))\n",
    "print(len(ama[1]))\n",
    "\n"
   ]
  },
  {
   "cell_type": "code",
   "execution_count": 54,
   "id": "bf8a0147",
   "metadata": {},
   "outputs": [
    {
     "data": {
      "text/plain": [
       "0\n",
       "Fortemente_Negativa     11798\n",
       "Fortemente_Positiva    175250\n",
       "Negativa                10478\n",
       "Neutra                  30802\n",
       "Positiva                41573\n",
       "dtype: int64"
      ]
     },
     "execution_count": 54,
     "metadata": {},
     "output_type": "execute_result"
    }
   ],
   "source": [
    "pd.DataFrame(ama[0]).groupby(0).size()"
   ]
  },
  {
   "cell_type": "code",
   "execution_count": 55,
   "id": "f28fbfcc",
   "metadata": {},
   "outputs": [],
   "source": [
    "ama_EN['Sentiment']=ama[0]\n",
    "ama_EN['Sent_Score']=ama[1]\n",
    "ama_EN.to_csv('Amazon_Reviews_EN_to300.csv')"
   ]
  },
  {
   "cell_type": "code",
   "execution_count": null,
   "id": "1fbaf0c7",
   "metadata": {},
   "outputs": [],
   "source": []
  },
  {
   "cell_type": "code",
   "execution_count": null,
   "id": "2998a04c",
   "metadata": {},
   "outputs": [],
   "source": []
  },
  {
   "cell_type": "code",
   "execution_count": null,
   "id": "5ed2f90f",
   "metadata": {},
   "outputs": [],
   "source": []
  },
  {
   "cell_type": "code",
   "execution_count": null,
   "id": "4d76ef40",
   "metadata": {},
   "outputs": [],
   "source": []
  }
 ],
 "metadata": {
  "kernelspec": {
   "display_name": "Python 3",
   "language": "python",
   "name": "python3"
  },
  "language_info": {
   "codemirror_mode": {
    "name": "ipython",
    "version": 3
   },
   "file_extension": ".py",
   "mimetype": "text/x-python",
   "name": "python",
   "nbconvert_exporter": "python",
   "pygments_lexer": "ipython3",
   "version": "3.8.8"
  }
 },
 "nbformat": 4,
 "nbformat_minor": 5
}
