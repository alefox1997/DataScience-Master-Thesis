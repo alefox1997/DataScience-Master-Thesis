{
 "cells": [
  {
   "cell_type": "code",
   "execution_count": null,
   "metadata": {},
   "outputs": [],
   "source": [
    "#SCRAPING METADATI YES24"
   ]
  },
  {
   "cell_type": "code",
   "execution_count": 2,
   "metadata": {},
   "outputs": [],
   "source": [
    "import re\n",
    "import time\n",
    "import pandas as pd\n",
    "import numpy as np\n",
    "from selenium import webdriver\n",
    "from selenium.webdriver.common.keys import Keys\n",
    "PATH='C:\\\\Users\\\\Fossati\\\\Desktop\\\\Tesi_Ale\\\\chromedriver91.exe'\n",
    "driver = webdriver.Chrome(PATH)"
   ]
  },
  {
   "cell_type": "code",
   "execution_count": 23,
   "metadata": {},
   "outputs": [],
   "source": [
    "#selenium for scraping dinamic pages"
   ]
  },
  {
   "cell_type": "code",
   "execution_count": 6,
   "metadata": {},
   "outputs": [
    {
     "name": "stdout",
     "output_type": "stream",
     "text": [
      "1912\n",
      "1912\n",
      "['http://www.yes24.com/Product/Goods/18841857', 'http://www.yes24.com/Product/Goods/3906369', 'http://www.yes24.com/Product/Goods/89938914', 'http://www.yes24.com/Product/Goods/37211852', 'http://www.yes24.com/Product/Goods/89938917', 'http://www.yes24.com/Product/Goods/77283025', 'http://www.yes24.com/Product/Goods/25283908', 'http://www.yes24.com/Product/Goods/3486146', 'http://www.yes24.com/Product/Goods/89525316', 'http://www.yes24.com/Product/Goods/75217405']\n"
     ]
    }
   ],
   "source": [
    "#codice per booklist più ampia (google sheet)\n",
    "\n",
    "#estraiamo tutti i singoli link dei libri per ogni genere\n",
    "\n",
    "genre_links=['http://www.yes24.com/24/category/bestseller?CategoryNumber=001001016001&sumgb=03&FetchSize=80', 'http://www.yes24.com/24/category/bestseller?CategoryNumber=001001016001&sumgb=03&FetchSize=80&PageNumber=2','http://www.yes24.com/24/category/bestseller?CategoryNumber=001001016001&sumgb=03&FetchSize=80&PageNumber=3','http://www.yes24.com/24/category/bestseller?CategoryNumber=001001016001&sumgb=03&FetchSize=80&PageNumber=4','http://www.yes24.com/24/category/bestseller?CategoryNumber=001001016001&sumgb=03&FetchSize=80&PageNumber=5',\n",
    "             'http://www.yes24.com/24/category/bestseller?CategoryNumber=001001046011007&sumgb=03&FetchSize=80', 'http://www.yes24.com/24/category/bestseller?CategoryNumber=001001046011007&sumgb=03&FetchSize=80&PageNumber=2','http://www.yes24.com/24/category/bestseller?CategoryNumber=001001046011007&sumgb=03&FetchSize=80&PageNumber=3','http://www.yes24.com/24/category/bestseller?CategoryNumber=001001046011007&sumgb=03&FetchSize=80&PageNumber=4','http://www.yes24.com/24/category/bestseller?CategoryNumber=001001046011007&sumgb=03&FetchSize=80&PageNumber=5',\n",
    "             'http://www.yes24.com/24/category/bestseller?CategoryNumber=001001046011003&sumgb=03&FetchSize=80','http://www.yes24.com/24/category/bestseller?CategoryNumber=001001046011003&sumgb=03&FetchSize=80&PageNumber=2','http://www.yes24.com/24/category/bestseller?CategoryNumber=001001046011003&sumgb=03&FetchSize=80&PageNumber=3','http://www.yes24.com/24/category/bestseller?CategoryNumber=001001046011003&sumgb=03&FetchSize=80&PageNumber=4','http://www.yes24.com/24/category/bestseller?CategoryNumber=001001046011003&sumgb=03&FetchSize=80&PageNumber=5',\n",
    "             'http://www.yes24.com/24/category/bestseller?CategoryNumber=001001046011002&sumgb=03&FetchSize=80','http://www.yes24.com/24/category/bestseller?CategoryNumber=001001046011002&sumgb=03&FetchSize=80&PageNumber=2','http://www.yes24.com/24/category/bestseller?CategoryNumber=001001046011002&sumgb=03&FetchSize=80&PageNumber=3','http://www.yes24.com/24/category/bestseller?CategoryNumber=001001046011002&sumgb=03&FetchSize=80&PageNumber=4','http://www.yes24.com/24/category/bestseller?CategoryNumber=001001046011002&sumgb=03&FetchSize=80&PageNumber=5',\n",
    "             'http://www.yes24.com/24/category/bestseller?CategoryNumber=001001046011005&sumgb=03&FetchSize=80','http://www.yes24.com/24/category/bestseller?CategoryNumber=001001046011005&sumgb=03&FetchSize=80&PageNumber=2','http://www.yes24.com/24/category/bestseller?CategoryNumber=001001046011005&sumgb=03&FetchSize=80&PageNumber=3','http://www.yes24.com/24/category/bestseller?CategoryNumber=001001046011005&sumgb=03&FetchSize=80&PageNumber=4']\n",
    "booklist=[]\n",
    "gen=[]\n",
    "c=0\n",
    "for lnk in genre_links:\n",
    "    driver.get(lnk)\n",
    "    li_lnk=driver.find_elements_by_xpath(\"//div[@class='goodsImgW']/a\") \n",
    "    for el in li_lnk:\n",
    "        l=el.get_attribute('href')\n",
    "        if l[0]=='h':\n",
    "            booklist.append(l)\n",
    "            if c<5:\n",
    "                gen.append('Children_Lit')\n",
    "            if c<10 and c>4:\n",
    "                gen.append('Romance')\n",
    "            if c<15 and c>9:\n",
    "                gen.append('Fantasy')\n",
    "            if c<20 and c>14:\n",
    "                gen.append('Thriller')\n",
    "            if c>19:\n",
    "                gen.append('Scify')\n",
    "            \n",
    "            \n",
    "    c+=1\n",
    "\n",
    "print(len(booklist)) #se la lunghezza è 2000, possiamo tranquillamente inserire i generi ad hoc\n",
    "print(len(gen))\n",
    "print(booklist[0:10])"
   ]
  },
  {
   "cell_type": "code",
   "execution_count": 7,
   "metadata": {},
   "outputs": [
    {
     "data": {
      "text/plain": [
       "24"
      ]
     },
     "execution_count": 7,
     "metadata": {},
     "output_type": "execute_result"
    }
   ],
   "source": [
    "len(genre_links)"
   ]
  },
  {
   "cell_type": "code",
   "execution_count": 8,
   "metadata": {},
   "outputs": [
    {
     "data": {
      "text/html": [
       "<div>\n",
       "<style scoped>\n",
       "    .dataframe tbody tr th:only-of-type {\n",
       "        vertical-align: middle;\n",
       "    }\n",
       "\n",
       "    .dataframe tbody tr th {\n",
       "        vertical-align: top;\n",
       "    }\n",
       "\n",
       "    .dataframe thead th {\n",
       "        text-align: right;\n",
       "    }\n",
       "</style>\n",
       "<table border=\"1\" class=\"dataframe\">\n",
       "  <thead>\n",
       "    <tr style=\"text-align: right;\">\n",
       "      <th></th>\n",
       "      <th>Link</th>\n",
       "      <th>Genre</th>\n",
       "    </tr>\n",
       "  </thead>\n",
       "  <tbody>\n",
       "    <tr>\n",
       "      <td>0</td>\n",
       "      <td>http://www.yes24.com/Product/Goods/18841857</td>\n",
       "      <td>Children_Lit</td>\n",
       "    </tr>\n",
       "    <tr>\n",
       "      <td>1</td>\n",
       "      <td>http://www.yes24.com/Product/Goods/3906369</td>\n",
       "      <td>Children_Lit</td>\n",
       "    </tr>\n",
       "    <tr>\n",
       "      <td>2</td>\n",
       "      <td>http://www.yes24.com/Product/Goods/89938914</td>\n",
       "      <td>Children_Lit</td>\n",
       "    </tr>\n",
       "    <tr>\n",
       "      <td>3</td>\n",
       "      <td>http://www.yes24.com/Product/Goods/37211852</td>\n",
       "      <td>Children_Lit</td>\n",
       "    </tr>\n",
       "    <tr>\n",
       "      <td>4</td>\n",
       "      <td>http://www.yes24.com/Product/Goods/89938917</td>\n",
       "      <td>Children_Lit</td>\n",
       "    </tr>\n",
       "    <tr>\n",
       "      <td>...</td>\n",
       "      <td>...</td>\n",
       "      <td>...</td>\n",
       "    </tr>\n",
       "    <tr>\n",
       "      <td>1907</td>\n",
       "      <td>http://www.yes24.com/Product/Goods/25137030</td>\n",
       "      <td>Scify</td>\n",
       "    </tr>\n",
       "    <tr>\n",
       "      <td>1908</td>\n",
       "      <td>http://www.yes24.com/Product/Goods/23599555</td>\n",
       "      <td>Scify</td>\n",
       "    </tr>\n",
       "    <tr>\n",
       "      <td>1909</td>\n",
       "      <td>http://www.yes24.com/Product/Goods/23599554</td>\n",
       "      <td>Scify</td>\n",
       "    </tr>\n",
       "    <tr>\n",
       "      <td>1910</td>\n",
       "      <td>http://www.yes24.com/Product/Goods/20518888</td>\n",
       "      <td>Scify</td>\n",
       "    </tr>\n",
       "    <tr>\n",
       "      <td>1911</td>\n",
       "      <td>http://www.yes24.com/Product/Goods/3307404</td>\n",
       "      <td>Scify</td>\n",
       "    </tr>\n",
       "  </tbody>\n",
       "</table>\n",
       "<p>1912 rows × 2 columns</p>\n",
       "</div>"
      ],
      "text/plain": [
       "                                             Link         Genre\n",
       "0     http://www.yes24.com/Product/Goods/18841857  Children_Lit\n",
       "1      http://www.yes24.com/Product/Goods/3906369  Children_Lit\n",
       "2     http://www.yes24.com/Product/Goods/89938914  Children_Lit\n",
       "3     http://www.yes24.com/Product/Goods/37211852  Children_Lit\n",
       "4     http://www.yes24.com/Product/Goods/89938917  Children_Lit\n",
       "...                                           ...           ...\n",
       "1907  http://www.yes24.com/Product/Goods/25137030         Scify\n",
       "1908  http://www.yes24.com/Product/Goods/23599555         Scify\n",
       "1909  http://www.yes24.com/Product/Goods/23599554         Scify\n",
       "1910  http://www.yes24.com/Product/Goods/20518888         Scify\n",
       "1911   http://www.yes24.com/Product/Goods/3307404         Scify\n",
       "\n",
       "[1912 rows x 2 columns]"
      ]
     },
     "execution_count": 8,
     "metadata": {},
     "output_type": "execute_result"
    }
   ],
   "source": [
    "gen_lnk=pd.DataFrame(list(zip(booklist,gen)),columns=['Link','Genre'])\n",
    "gen_lnk"
   ]
  },
  {
   "cell_type": "code",
   "execution_count": 9,
   "metadata": {},
   "outputs": [
    {
     "name": "stdout",
     "output_type": "stream",
     "text": [
      "76\n",
      "76\n"
     ]
    }
   ],
   "source": [
    "#vediamo se ci sono duplicati, cosicchè possiamo scartarli\n",
    "indici=[]\n",
    "count=0\n",
    "for el in booklist:\n",
    "    lin=0\n",
    "    for link in booklist:\n",
    "        if el == link and count!=lin:\n",
    "            indici.append(count)\n",
    "        lin+=1\n",
    "    count+=1\n",
    "    \n",
    "ind=[]\n",
    "for el in indici:\n",
    "    if el not in ind:\n",
    "        ind.append(el)\n",
    "        \n",
    "print(len(indici))\n",
    "print(len(ind)) #filtriamo questi 76 link duplicati"
   ]
  },
  {
   "cell_type": "code",
   "execution_count": 10,
   "metadata": {},
   "outputs": [
    {
     "data": {
      "text/html": [
       "<div>\n",
       "<style scoped>\n",
       "    .dataframe tbody tr th:only-of-type {\n",
       "        vertical-align: middle;\n",
       "    }\n",
       "\n",
       "    .dataframe tbody tr th {\n",
       "        vertical-align: top;\n",
       "    }\n",
       "\n",
       "    .dataframe thead th {\n",
       "        text-align: right;\n",
       "    }\n",
       "</style>\n",
       "<table border=\"1\" class=\"dataframe\">\n",
       "  <thead>\n",
       "    <tr style=\"text-align: right;\">\n",
       "      <th></th>\n",
       "      <th>Link</th>\n",
       "      <th>Genre</th>\n",
       "    </tr>\n",
       "  </thead>\n",
       "  <tbody>\n",
       "    <tr>\n",
       "      <td>0</td>\n",
       "      <td>http://www.yes24.com/Product/Goods/18841857</td>\n",
       "      <td>Children_Lit</td>\n",
       "    </tr>\n",
       "    <tr>\n",
       "      <td>1</td>\n",
       "      <td>http://www.yes24.com/Product/Goods/3906369</td>\n",
       "      <td>Children_Lit</td>\n",
       "    </tr>\n",
       "    <tr>\n",
       "      <td>2</td>\n",
       "      <td>http://www.yes24.com/Product/Goods/89938914</td>\n",
       "      <td>Children_Lit</td>\n",
       "    </tr>\n",
       "    <tr>\n",
       "      <td>3</td>\n",
       "      <td>http://www.yes24.com/Product/Goods/37211852</td>\n",
       "      <td>Children_Lit</td>\n",
       "    </tr>\n",
       "    <tr>\n",
       "      <td>4</td>\n",
       "      <td>http://www.yes24.com/Product/Goods/89938917</td>\n",
       "      <td>Children_Lit</td>\n",
       "    </tr>\n",
       "    <tr>\n",
       "      <td>...</td>\n",
       "      <td>...</td>\n",
       "      <td>...</td>\n",
       "    </tr>\n",
       "    <tr>\n",
       "      <td>1831</td>\n",
       "      <td>http://www.yes24.com/Product/Goods/25137030</td>\n",
       "      <td>Scify</td>\n",
       "    </tr>\n",
       "    <tr>\n",
       "      <td>1832</td>\n",
       "      <td>http://www.yes24.com/Product/Goods/23599555</td>\n",
       "      <td>Scify</td>\n",
       "    </tr>\n",
       "    <tr>\n",
       "      <td>1833</td>\n",
       "      <td>http://www.yes24.com/Product/Goods/23599554</td>\n",
       "      <td>Scify</td>\n",
       "    </tr>\n",
       "    <tr>\n",
       "      <td>1834</td>\n",
       "      <td>http://www.yes24.com/Product/Goods/20518888</td>\n",
       "      <td>Scify</td>\n",
       "    </tr>\n",
       "    <tr>\n",
       "      <td>1835</td>\n",
       "      <td>http://www.yes24.com/Product/Goods/3307404</td>\n",
       "      <td>Scify</td>\n",
       "    </tr>\n",
       "  </tbody>\n",
       "</table>\n",
       "<p>1836 rows × 2 columns</p>\n",
       "</div>"
      ],
      "text/plain": [
       "                                             Link         Genre\n",
       "0     http://www.yes24.com/Product/Goods/18841857  Children_Lit\n",
       "1      http://www.yes24.com/Product/Goods/3906369  Children_Lit\n",
       "2     http://www.yes24.com/Product/Goods/89938914  Children_Lit\n",
       "3     http://www.yes24.com/Product/Goods/37211852  Children_Lit\n",
       "4     http://www.yes24.com/Product/Goods/89938917  Children_Lit\n",
       "...                                           ...           ...\n",
       "1831  http://www.yes24.com/Product/Goods/25137030         Scify\n",
       "1832  http://www.yes24.com/Product/Goods/23599555         Scify\n",
       "1833  http://www.yes24.com/Product/Goods/23599554         Scify\n",
       "1834  http://www.yes24.com/Product/Goods/20518888         Scify\n",
       "1835   http://www.yes24.com/Product/Goods/3307404         Scify\n",
       "\n",
       "[1836 rows x 2 columns]"
      ]
     },
     "execution_count": 10,
     "metadata": {},
     "output_type": "execute_result"
    }
   ],
   "source": [
    "gen_lnk_fin=gen_lnk.drop(ind,axis=0)\n",
    "gen_lnk_fin=gen_lnk_fin.reset_index()\n",
    "gen_lnk_fin=gen_lnk_fin.drop('index',axis=1)\n",
    "gen_lnk_fin"
   ]
  },
  {
   "cell_type": "code",
   "execution_count": 11,
   "metadata": {},
   "outputs": [
    {
     "name": "stdout",
     "output_type": "stream",
     "text": [
      "1836\n",
      "['http://www.yes24.com/Product/Goods/18841857', 'http://www.yes24.com/Product/Goods/3906369', 'http://www.yes24.com/Product/Goods/89938914', 'http://www.yes24.com/Product/Goods/37211852', 'http://www.yes24.com/Product/Goods/89938917', 'http://www.yes24.com/Product/Goods/77283025', 'http://www.yes24.com/Product/Goods/25283908', 'http://www.yes24.com/Product/Goods/3486146', 'http://www.yes24.com/Product/Goods/89525316', 'http://www.yes24.com/Product/Goods/75217405', 'http://www.yes24.com/Product/Goods/92578889', 'http://www.yes24.com/Product/Goods/75217436', 'http://www.yes24.com/Product/Goods/59272030', 'http://www.yes24.com/Product/Goods/88372513', 'http://www.yes24.com/Product/Goods/14972137']\n"
     ]
    }
   ],
   "source": [
    "mylinks=gen_lnk_fin['Link'].to_list()\n",
    "print(len(mylinks))\n",
    "print(mylinks[:15])"
   ]
  },
  {
   "cell_type": "code",
   "execution_count": null,
   "metadata": {},
   "outputs": [],
   "source": []
  },
  {
   "cell_type": "code",
   "execution_count": null,
   "metadata": {},
   "outputs": [],
   "source": [
    "#prove di cattura sug_gen"
   ]
  },
  {
   "cell_type": "code",
   "execution_count": null,
   "metadata": {},
   "outputs": [],
   "source": []
  },
  {
   "cell_type": "code",
   "execution_count": null,
   "metadata": {},
   "outputs": [],
   "source": []
  },
  {
   "cell_type": "code",
   "execution_count": null,
   "metadata": {},
   "outputs": [],
   "source": []
  },
  {
   "cell_type": "code",
   "execution_count": null,
   "metadata": {},
   "outputs": [],
   "source": [
    "#prima parte in cui si scrapano info generali sul libro di riferimento\n",
    "\n",
    "titles=[]\n",
    "authors=[]\n",
    "prices=[]\n",
    "sug_gen=[]\n",
    "num_revs=[]\n",
    "dist_rat_cont=[]\n",
    "dist_rat_design=[]\n",
    "overall_rat=[]\n",
    "n_pages=[]\n",
    "isbn=[]\n",
    "pub_date=[]\n",
    "num_revs_ol=[]\n",
    "overall_rat_ol=[]\n",
    "\n",
    "# queste  liste saranno unite in un dataframe a unico con ogni riga equivalente ad un libro\n",
    "\n",
    "\n",
    "\n"
   ]
  },
  {
   "cell_type": "code",
   "execution_count": null,
   "metadata": {},
   "outputs": [],
   "source": [
    "#scraping metadati"
   ]
  },
  {
   "cell_type": "code",
   "execution_count": null,
   "metadata": {},
   "outputs": [],
   "source": [
    "#codice scraping finale yes24\n",
    "\n",
    "\n",
    "numero_libro=-1   \n",
    "no_link=0\n",
    "\n",
    "for book in booklist: \n",
    "    time.sleep(5)\n",
    "    numero_libro+=1\n",
    "    try:\n",
    "        try:\n",
    "            url= str(book)\n",
    "            driver.get(url)\n",
    "        except:\n",
    "            time.sleep(5)\n",
    "            url= str(book)\n",
    "            driver.get(url)\n",
    "    except:\n",
    "        no_link+=1\n",
    "        continue #non lo registro nemmeno se non trovo il link. Passo oltre\n",
    "        \n",
    "        \n",
    "    #REVIEWS LUNGHE\n",
    "    \n",
    "    #titolo\n",
    "    try:\n",
    "        title = driver.find_element_by_class_name('gd_name')\n",
    "        titles.append(title.text)\n",
    "    except:\n",
    "        titles.append('error')\n",
    "    \n",
    "    #autore\n",
    "    try:\n",
    "        author = driver.find_element_by_class_name('lnk_author')\n",
    "        authors.append(author.text)\n",
    "    except:\n",
    "        authors.append('error')\n",
    "    \n",
    "    #prezzo\n",
    "    try:\n",
    "        price = driver.find_element_by_class_name('tot_price')\n",
    "        prices.append(price.text)\n",
    "    except:\n",
    "        prices.append('error')\n",
    "    \n",
    "    #number of reviews\n",
    "    try:\n",
    "        n_rev = driver.find_element_by_id('emReviewCountText').text\n",
    "        n_rev=int(re.findall(r'\\d+', n_rev)[0])\n",
    "        num_revs.append(n_rev)\n",
    "    except:\n",
    "        num_revs.append('error')\n",
    "        \n",
    "    #shelves\n",
    "    try:\n",
    "        shelves = driver.find_elements_by_xpath(\"//div[@id='infoset_goodsCate']/div[@class='infoSetCont_wrap']/dl[@class='yesAlertDl']\")\n",
    "        s_aus=[]\n",
    "        s=0\n",
    "        for el in shelves:\n",
    "            if s<2: #voglio solo le prime 2 classificazioni (utenti e media)\n",
    "                s_aus.append(el.text)\n",
    "                s+=1\n",
    "        sug_gen.append(s_aus)\n",
    "    except:\n",
    "        sug_gen.append('error')\n",
    "    \n",
    "    \n",
    "    #rating distribuito contenuti e design (relativi alle reviews lunghe)\n",
    "    try:\n",
    "        c=0\n",
    "        cont=[]\n",
    "        design=[]\n",
    "        dist_rating_contenuti = driver.find_elements_by_xpath(\"//div[@id='infoset_reviewTop']/div[@class='review_starWrap']/div[@id='ratingDetail']/span[@class='moreRatingArea']/span[@class='moreRatingLi']/span[@class='moreRatingLiCont']/dl\")\n",
    "        for el in dist_rating_contenuti:  #i primi 5 nella lista contenuti, i secondi 5 nella lista design\n",
    "            if c<5:\n",
    "                cont.append(re.findall(r'\\d+\\%' ,el.get_attribute('textContent'))[0])\n",
    "            else:\n",
    "                design.append(re.findall(r'\\d+\\%' ,el.get_attribute('textContent'))[0])\n",
    "            c+=1\n",
    "        dist_rat_cont.append(cont)\n",
    "        dist_rat_design.append(design)\n",
    "    except:\n",
    "        dist_rat_cont.append('error')\n",
    "        dist_rat_design.append('error')\n",
    "    \n",
    "    \n",
    "    #overall rating \n",
    "    try:\n",
    "        overall_rating = driver.find_element_by_class_name('yes_b')\n",
    "        overall_rat.append(float(overall_rating.text))\n",
    "    except:\n",
    "        overall_rat.append('error')\n",
    "    \n",
    "    \n",
    "    #numero pagine, isbn e data di pubblicazione:\n",
    "    try:\n",
    "        n_pag=driver.find_elements_by_xpath(\"//div[@id='infoset_specific']/div[@class='infoSetCont_wrap']/div[@class='yesTb']/table[@class='tb_nor tb_vertical']/tbody[@class='b_size']/tr\")\n",
    "    \n",
    "    except:\n",
    "        pub_date.append('error')\n",
    "        n_pages.append('error')\n",
    "        isbn.append('error')\n",
    "    #publication year\n",
    "    try:\n",
    "        pub_date.append(re.findall(r'\\d+' ,n_pag[0].text)[0])\n",
    "    except:\n",
    "        pub_date.append('error')\n",
    "\n",
    "    #n pages\n",
    "    try:\n",
    "        n_pages.append(int(re.findall(r'\\d+' ,n_pag[1].text)[0]))\n",
    "    except:\n",
    "        n_pages.append('error')\n",
    "        \n",
    "\n",
    "    #isbn\n",
    "    try:\n",
    "        isbn.append(re.findall(r'\\d+' ,n_pag[2].text)[1])\n",
    "    except:\n",
    "        isbn.append('error')\n",
    "        \n",
    "    \n",
    "    \n",
    "    #ONE LINE REVIEWS\n",
    "\n",
    "    \n",
    "    #Num_Reviews_ol  \n",
    "    \n",
    "    try:\n",
    "        n_rev_ol=driver.find_element_by_xpath(\"//div[@id='infoset_rvCmt']/div[@class='tm_infoSet']/h4[@class='tit_txt']/em[@class='txt_des']\")\n",
    "        n_rev_ol=int(re.findall(r'\\d+',n_rev_ol.text)[0])\n",
    "        num_revs_ol.append(n_rev_ol)\n",
    "    except:\n",
    "        num_revs_ol.append('error')\n",
    "\n",
    "\n",
    "\n",
    "    #Overall_Rating_ol (non c'è distribuito in questo caso a differenza delle reviews lunghe)\n",
    "    try:\n",
    "        overall_rating = driver.find_element_by_xpath(\"//div[@id='infoset_oneCommentList']/div[@class='gd_rvCmtTop']/div[@class='review_starWrap']/div[@class='gd_rating']/em[@class='yes_b']\")\n",
    "        overall_rat_ol.append(float(overall_rating.text))\n",
    "    except:\n",
    "        overall_rat_ol.append('error')\n",
    "    \n",
    "    \n",
    "\n",
    "    \n",
    "    \n",
    "  "
   ]
  },
  {
   "cell_type": "code",
   "execution_count": null,
   "metadata": {},
   "outputs": [],
   "source": [
    "print(len(titles))\n",
    "print(len(authors))\n",
    "print(len(prices))\n",
    "print(len(num_revs))\n",
    "print(len(dist_rat_cont))\n",
    "print(len(dist_rat_design))\n",
    "print(len(overall_rat))\n",
    "print(len(n_pages))\n",
    "print(len(isbn))\n",
    "print(len(pub_date))\n",
    "print(len(num_revs_ol))\n",
    "print(len(overall_rat_ol))\n"
   ]
  },
  {
   "cell_type": "code",
   "execution_count": null,
   "metadata": {},
   "outputs": [],
   "source": [
    "#creazione dei pandas dataframe 1\n",
    "\n",
    "books=pd.DataFrame(list(zip(titles,isbn,authors,prices,sug_gen,n_pages,pub_date,num_revs,num_revs_ol,dist_rat_cont,dist_rat_design,overall_rat,overall_rat_ol)), columns=['Title','ISBN','Author','Price','Shelves','N_pag','Pub_Date','Num_Reviews','Num_Reviews_ol','Distr_Rat_Cont','Distr_Rat_Design','Overall_Rating','Overall_Rating_ol'])\n",
    "books=books.reset_index()\n",
    "#affil_covid_def=affil_covid_def.drop('index',axis=1)\n",
    "books"
   ]
  },
  {
   "cell_type": "code",
   "execution_count": null,
   "metadata": {},
   "outputs": [],
   "source": []
  },
  {
   "cell_type": "code",
   "execution_count": null,
   "metadata": {},
   "outputs": [],
   "source": [
    "books=books[books['ISBN']!='error'] #eliminiamo gli ISBN inutili\n"
   ]
  },
  {
   "cell_type": "code",
   "execution_count": null,
   "metadata": {},
   "outputs": [],
   "source": [
    "books=books[books['Num_Reviews']!='error']"
   ]
  },
  {
   "cell_type": "code",
   "execution_count": null,
   "metadata": {},
   "outputs": [],
   "source": [
    "books=books[books['Num_Reviews_ol']!='error'] #quetsi filtri per poter fare la somma Tot_Reviews"
   ]
  },
  {
   "cell_type": "code",
   "execution_count": null,
   "metadata": {},
   "outputs": [],
   "source": []
  },
  {
   "cell_type": "code",
   "execution_count": null,
   "metadata": {},
   "outputs": [],
   "source": []
  },
  {
   "cell_type": "code",
   "execution_count": 5,
   "metadata": {},
   "outputs": [],
   "source": [
    "books.to_csv('Yes24Meta_KO.csv')"
   ]
  },
  {
   "cell_type": "code",
   "execution_count": null,
   "metadata": {},
   "outputs": [],
   "source": []
  },
  {
   "cell_type": "code",
   "execution_count": null,
   "metadata": {},
   "outputs": [],
   "source": []
  },
  {
   "cell_type": "code",
   "execution_count": null,
   "metadata": {},
   "outputs": [],
   "source": []
  },
  {
   "cell_type": "code",
   "execution_count": null,
   "metadata": {},
   "outputs": [],
   "source": []
  },
  {
   "cell_type": "code",
   "execution_count": null,
   "metadata": {},
   "outputs": [],
   "source": []
  },
  {
   "cell_type": "code",
   "execution_count": null,
   "metadata": {},
   "outputs": [],
   "source": []
  },
  {
   "cell_type": "code",
   "execution_count": null,
   "metadata": {},
   "outputs": [],
   "source": []
  },
  {
   "cell_type": "code",
   "execution_count": null,
   "metadata": {},
   "outputs": [],
   "source": []
  },
  {
   "cell_type": "code",
   "execution_count": null,
   "metadata": {},
   "outputs": [],
   "source": []
  },
  {
   "cell_type": "code",
   "execution_count": null,
   "metadata": {},
   "outputs": [],
   "source": []
  }
 ],
 "metadata": {
  "kernelspec": {
   "display_name": "Python 3",
   "language": "python",
   "name": "python3"
  },
  "language_info": {
   "codemirror_mode": {
    "name": "ipython",
    "version": 3
   },
   "file_extension": ".py",
   "mimetype": "text/x-python",
   "name": "python",
   "nbconvert_exporter": "python",
   "pygments_lexer": "ipython3",
   "version": "3.8.8"
  }
 },
 "nbformat": 4,
 "nbformat_minor": 4
}
